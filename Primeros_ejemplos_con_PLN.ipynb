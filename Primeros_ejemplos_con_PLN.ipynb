{
  "nbformat": 4,
  "nbformat_minor": 0,
  "metadata": {
    "colab": {
      "provenance": [],
      "authorship_tag": "ABX9TyNtWtjwcOMh/UWQ8TjDInI8",
      "include_colab_link": true
    },
    "kernelspec": {
      "name": "python3",
      "display_name": "Python 3"
    },
    "language_info": {
      "name": "python"
    }
  },
  "cells": [
    {
      "cell_type": "markdown",
      "metadata": {
        "id": "view-in-github",
        "colab_type": "text"
      },
      "source": [
        "<a href=\"https://colab.research.google.com/github/Linamaho/LearningNLP/blob/main/Primeros_ejemplos_con_PLN.ipynb\" target=\"_parent\"><img src=\"https://colab.research.google.com/assets/colab-badge.svg\" alt=\"Open In Colab\"/></a>"
      ]
    },
    {
      "cell_type": "markdown",
      "source": [
        "# Usa este cuaderno para empezar a familiarizarte con PNL y spaCy ✅\n",
        "Algunos de los ejemplos estan adaptados del curso Advance NLP with spaCy disponible en [course.spacy.io/en](https://)"
      ],
      "metadata": {
        "id": "Iuo9_6EJ7npe"
      }
    },
    {
      "cell_type": "markdown",
      "source": [
        "A continuacion algunas lineas basicas de codigo para familiarizarte con SpaCy"
      ],
      "metadata": {
        "id": "MfemaMT57vvP"
      }
    },
    {
      "cell_type": "markdown",
      "source": [
        "# Primero, asegurate de correr la primera celda para instalar SpaCy y el Pipeline"
      ],
      "metadata": {
        "id": "JQMbV886k6Av"
      }
    },
    {
      "cell_type": "code",
      "source": [
        "# instalar Spacy y el modelo en español\n",
        "!pip install spacy\n",
        "!python -m spacy download es_core_news_sm\n",
        "#python -m spacy download es_core_web_md  #Usa esta opcion si quieres descargar el modelo mediano"
      ],
      "metadata": {
        "id": "dloKX3i2CSiR"
      },
      "execution_count": null,
      "outputs": []
    },
    {
      "cell_type": "code",
      "source": [
        "# Cargar el pipeline pequeño (En español)\n",
        "nlp = spacy.load(\"es_core_news_sm\")"
      ],
      "metadata": {
        "id": "niUGygOik0Ic"
      },
      "execution_count": 35,
      "outputs": []
    },
    {
      "cell_type": "markdown",
      "source": [
        "\n",
        "\n",
        "---\n",
        "\n",
        "\n",
        "\n",
        "---\n",
        "\n"
      ],
      "metadata": {
        "id": "fjuWd5A7A3Fi"
      }
    },
    {
      "cell_type": "markdown",
      "source": [
        "## Seleccionar partes del texto"
      ],
      "metadata": {
        "id": "GKkHlGqP_BN8"
      }
    },
    {
      "cell_type": "code",
      "source": [
        "# tokenizar el texto\n",
        "doc = nlp(\"Esta es una frase.\")\n",
        "\n",
        "# Imprimir la primera palabra de la frase\n",
        "print(\"La primera palabra en la frase es:\", doc[0])\n"
      ],
      "metadata": {
        "colab": {
          "base_uri": "https://localhost:8080/"
        },
        "id": "JyLQvYSp_APn",
        "outputId": "e239765a-df3a-481e-9c72-6973d0a7be38"
      },
      "execution_count": 31,
      "outputs": [
        {
          "output_type": "stream",
          "name": "stdout",
          "text": [
            "La primera palabra en la frase es: Esta\n"
          ]
        }
      ]
    },
    {
      "cell_type": "code",
      "source": [
        "# Imprimir la ultima palabra en la frase\n",
        "doc[3]"
      ],
      "metadata": {
        "colab": {
          "base_uri": "https://localhost:8080/"
        },
        "id": "LSPqaoJA_xZS",
        "outputId": "513b6147-00a8-4980-ce20-7ac654bd8850"
      },
      "execution_count": 32,
      "outputs": [
        {
          "output_type": "execute_result",
          "data": {
            "text/plain": [
              "frase"
            ]
          },
          "metadata": {},
          "execution_count": 32
        }
      ]
    },
    {
      "cell_type": "markdown",
      "source": [
        "\n",
        "\n",
        "---\n",
        "\n",
        "\n",
        "\n",
        "---\n",
        "\n"
      ],
      "metadata": {
        "id": "FYfJCJ2UBJAS"
      }
    },
    {
      "cell_type": "markdown",
      "source": [
        "## Veamos algunos ejemplos interesantes de **PLN**"
      ],
      "metadata": {
        "id": "K5HpdaFfAIx2"
      }
    },
    {
      "cell_type": "markdown",
      "source": [
        "Como extraer los porcentajes en un texto:"
      ],
      "metadata": {
        "id": "seGvrSsvBU9i"
      }
    },
    {
      "cell_type": "code",
      "source": [
        "# Procesa el texto\n",
        "doc = nlp(\n",
        "    \"En 1990, más del 60 % de las personas en Asia del Este se encontraban \"\n",
        "    \"en extrema pobreza. Ahora, menos del 4 % lo están.\"\n",
        ")\n",
        "\n",
        "# Itera sobre los tokens en el doc\n",
        "for token in doc:\n",
        "    # Revisa si el token parece un número\n",
        "    if token.like_num:\n",
        "        # Obtén el próximo token en el documento\n",
        "        next_token = doc[token.i + 1]\n",
        "        # Revisa si el texto del siguiente token es igual a '%'\n",
        "        if next_token.text == \"%\":\n",
        "            print(\"Porcentaje encontrado:\", token.text)"
      ],
      "metadata": {
        "colab": {
          "base_uri": "https://localhost:8080/"
        },
        "id": "wEoGl3u9AI7c",
        "outputId": "76091fb1-beb7-487b-db8e-9414abeabeca"
      },
      "execution_count": 42,
      "outputs": [
        {
          "output_type": "stream",
          "name": "stdout",
          "text": [
            "Porcentaje encontrado: 60\n",
            "Porcentaje encontrado: 4\n"
          ]
        }
      ]
    },
    {
      "cell_type": "markdown",
      "source": [
        "### Predecir nombres de entidades"
      ],
      "metadata": {
        "id": "t9frtx3yC1YG"
      }
    },
    {
      "cell_type": "code",
      "source": [
        "# *******Inserta el texto que quieras analizar******\n",
        "text = \"Apple quiere comprar una Startup de EE.UU. para asi vender mas iPhones\"\n",
        "\n",
        "# Process the text\n",
        "doc = nlp(text)\n",
        "\n",
        "# Iterate over the entities\n",
        "for ent in doc.ents:\n",
        "    # Print the entity text and label\n",
        "    print(ent.text, ent.label_)"
      ],
      "metadata": {
        "colab": {
          "base_uri": "https://localhost:8080/"
        },
        "id": "Quu5d9q6C1_J",
        "outputId": "8177f580-557a-42c1-9d68-372146157b6c"
      },
      "execution_count": 53,
      "outputs": [
        {
          "output_type": "stream",
          "name": "stdout",
          "text": [
            "Apple ORG\n",
            "Startup ORG\n",
            "EE.UU. LOC\n",
            "iPhones MISC\n"
          ]
        }
      ]
    },
    {
      "cell_type": "code",
      "source": [
        "spacy.explain(\"ORG\")"
      ],
      "metadata": {
        "colab": {
          "base_uri": "https://localhost:8080/",
          "height": 35
        },
        "id": "JZAfp-GFHu4L",
        "outputId": "51a5efce-eb5b-4d10-f0ba-32d6a51ff6fb"
      },
      "execution_count": 51,
      "outputs": [
        {
          "output_type": "execute_result",
          "data": {
            "text/plain": [
              "'Companies, agencies, institutions, etc.'"
            ],
            "application/vnd.google.colaboratory.intrinsic+json": {
              "type": "string"
            }
          },
          "metadata": {},
          "execution_count": 51
        }
      ]
    },
    {
      "cell_type": "code",
      "source": [
        "spacy.explain(\"MISC\")"
      ],
      "metadata": {
        "colab": {
          "base_uri": "https://localhost:8080/",
          "height": 35
        },
        "id": "ZMNxOz6THWJc",
        "outputId": "19ab1060-d874-4a72-d0b0-116d986d1e49"
      },
      "execution_count": 52,
      "outputs": [
        {
          "output_type": "execute_result",
          "data": {
            "text/plain": [
              "'Miscellaneous entities, e.g. events, nationalities, products or works of art'"
            ],
            "application/vnd.google.colaboratory.intrinsic+json": {
              "type": "string"
            }
          },
          "metadata": {},
          "execution_count": 52
        }
      ]
    },
    {
      "cell_type": "markdown",
      "source": [
        "\n",
        "\n",
        "---\n",
        "\n",
        "\n",
        "\n",
        "---\n",
        "\n"
      ],
      "metadata": {
        "id": "tci623I4l3YM"
      }
    },
    {
      "cell_type": "markdown",
      "source": [
        "## Encontrar palabras y frases en un texto usndo el Matcher"
      ],
      "metadata": {
        "id": "gNSUCtHzgjx_"
      }
    },
    {
      "cell_type": "markdown",
      "source": [
        "Ejemplo 1"
      ],
      "metadata": {
        "id": "UpB5fozFir7x"
      }
    },
    {
      "cell_type": "code",
      "source": [
        "from spacy.matcher import Matcher\n",
        "matcher = Matcher(nlp.vocab)\n",
        "\n",
        "doc = nlp(\n",
        "    \"Después de hacer la actualización de iOS no notarás un rediseño \"\n",
        "    \"radical del sistema: no se compara con los cambios estéticos que \"\n",
        "    \"tuvimos con el iOS 7. La mayoría de las funcionalidades del iOS 11 \"\n",
        "    \"siguen iguales en el iOS 10.\"\n",
        ")\n",
        "\n",
        "# Escribe un patrón para las versiones de iOS enteras\n",
        "# (\"iOS 7\", \"iOS 11\", \"iOS 10\")\n",
        "pattern = [{\"TEXT\": \"iOS\"}, {\"IS_DIGIT\": True}]\n",
        "\n",
        "# Añade el patrón al matcher y usa el matcher sobre el documento\n",
        "matcher.add(\"IOS_VERSION_PATTERN\", [pattern])\n",
        "matches = matcher(doc)\n",
        "print(\"Total de resultados encontrados:\", len(matches))\n",
        "\n",
        "# Itera sobre los resultados e imprime el texto del span\n",
        "for match_id, start, end in matches:\n",
        "    print(\"Resultado encontrado:\", doc[start:end].text)"
      ],
      "metadata": {
        "colab": {
          "base_uri": "https://localhost:8080/"
        },
        "id": "dQxQHosTgkIg",
        "outputId": "a2321657-aa6c-48df-8109-4f851240e427"
      },
      "execution_count": 58,
      "outputs": [
        {
          "output_type": "stream",
          "name": "stdout",
          "text": [
            "Total de resultados encontrados: 3\n",
            "Resultado encontrado: iOS 7\n",
            "Resultado encontrado: iOS 11\n",
            "Resultado encontrado: iOS 10\n"
          ]
        }
      ]
    },
    {
      "cell_type": "markdown",
      "source": [
        "## Ejemplo 2"
      ],
      "metadata": {
        "id": "jECZlhuEJfuw"
      }
    },
    {
      "cell_type": "code",
      "source": [
        "doc = nlp(\n",
        "    \"descargué Fortnite en mi computadora, pero no puedo abrir el juego. \"\n",
        "    \"Ayuda? Cuando estaba descargando Minecraft, conseguí la versión de Windows \"\n",
        "    \"donde tiene una carpeta '.zip' y usé el programa por defecto para \"\n",
        "    \"descomprimirlo…así que también tengo que descargar Winzip?\"\n",
        ")\n",
        "\n",
        "# Escribe un patrón que encuentre una forma de \"descargar\" más un nombre propio\n",
        "pattern = [{\"LEMMA\": \"descargar\"}, {\"POS\": \"PROPN\"}]\n",
        "\n",
        "# Añade el patrón al matcher y usa el matcher sobre el documento\n",
        "matcher.add(\"DOWNLOAD_THINGS_PATTERN\", [pattern])\n",
        "matches = matcher(doc)\n",
        "print(\"Total de resultados encontrados:\", len(matches))\n",
        "\n",
        "# Itera sobre los resultados e imprime el texto del span\n",
        "for match_id, start, end in matches:\n",
        "    print(\"Resultado encontrado:\", doc[start:end].text)"
      ],
      "metadata": {
        "colab": {
          "base_uri": "https://localhost:8080/"
        },
        "id": "ztEGGgDQJc1b",
        "outputId": "eef914de-9d7e-4057-df82-123cf872db00"
      },
      "execution_count": 59,
      "outputs": [
        {
          "output_type": "stream",
          "name": "stdout",
          "text": [
            "Total de resultados encontrados: 3\n",
            "Resultado encontrado: descargué Fortnite\n",
            "Resultado encontrado: descargando Minecraft\n",
            "Resultado encontrado: descargar Winzip\n"
          ]
        }
      ]
    }
  ]
}