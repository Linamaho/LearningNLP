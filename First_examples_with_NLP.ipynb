{
  "nbformat": 4,
  "nbformat_minor": 0,
  "metadata": {
    "colab": {
      "provenance": [],
      "authorship_tag": "ABX9TyP/uM8eDhyuBKW+l80dxuzJ",
      "include_colab_link": true
    },
    "kernelspec": {
      "name": "python3",
      "display_name": "Python 3"
    },
    "language_info": {
      "name": "python"
    }
  },
  "cells": [
    {
      "cell_type": "markdown",
      "metadata": {
        "id": "view-in-github",
        "colab_type": "text"
      },
      "source": [
        "<a href=\"https://colab.research.google.com/github/Linamaho/LearningNLP/blob/main/First_examples_with_NLP.ipynb\" target=\"_parent\"><img src=\"https://colab.research.google.com/assets/colab-badge.svg\" alt=\"Open In Colab\"/></a>"
      ]
    },
    {
      "cell_type": "markdown",
      "source": [
        "# Use this notebook to start familiarizing with NLP and spaCy ✅\n",
        "Some examples were taken from the course Advance NLP with spaCy available at [course.spacy.io/en](https://)"
      ],
      "metadata": {
        "id": "Iuo9_6EJ7npe"
      }
    },
    {
      "cell_type": "markdown",
      "source": [
        "This are some basic lines of code to try out spaCy"
      ],
      "metadata": {
        "id": "MfemaMT57vvP"
      }
    },
    {
      "cell_type": "markdown",
      "source": [
        "# First, be sure to run the first cell to import Spacy and the pipeline"
      ],
      "metadata": {
        "id": "JQMbV886k6Av"
      }
    },
    {
      "cell_type": "code",
      "source": [
        "# Import spaCy\n",
        "import spacy\n",
        "\n",
        "# Import small pipeline (English)\n",
        "nlp = spacy.load(\"en_core_web_sm\")\n"
      ],
      "metadata": {
        "id": "niUGygOik0Ic"
      },
      "execution_count": null,
      "outputs": []
    },
    {
      "cell_type": "markdown",
      "source": [
        "English example"
      ],
      "metadata": {
        "id": "rbI3EdixlDeq"
      }
    },
    {
      "cell_type": "code",
      "execution_count": 1,
      "metadata": {
        "colab": {
          "base_uri": "https://localhost:8080/"
        },
        "id": "h_z9GVom56qH",
        "outputId": "a0c2a06b-dd16-4c31-ee17-e675a4a834d0"
      },
      "outputs": [
        {
          "output_type": "stream",
          "name": "stdout",
          "text": [
            "This is a sentence.\n"
          ]
        }
      ],
      "source": [
        "# Create the English nlp object\n",
        "nlp = spacy.blank(\"en\")\n",
        "\n",
        "# Process a text\n",
        "doc = nlp(\"This is a sentence.\")\n",
        "\n",
        "# Print the document text\n",
        "print(doc.text)"
      ]
    },
    {
      "cell_type": "markdown",
      "source": [
        "**If your text or document is in Spanish. No problem! Let's try spaCy in Spanish:**"
      ],
      "metadata": {
        "id": "Yzpd14If8CMy"
      }
    },
    {
      "cell_type": "code",
      "source": [
        "# Import spaCy\n",
        "import spacy\n",
        "\n",
        "# Create the Spanish nlp object\n",
        "nlp = spacy.blank(\"es\")\n",
        "\n",
        "# Process a text (this is Spanish for: \"How are you?\")\n",
        "doc = nlp(\"¿Cómo estás?\")\n",
        "\n",
        "# Print the document text\n",
        "print(doc.text)"
      ],
      "metadata": {
        "colab": {
          "base_uri": "https://localhost:8080/"
        },
        "id": "Dt34WAtz6ghy",
        "outputId": "6383666d-0167-40f5-a386-40bd2a069d48"
      },
      "execution_count": null,
      "outputs": [
        {
          "output_type": "stream",
          "name": "stdout",
          "text": [
            "¿Cómo estás?\n"
          ]
        }
      ]
    },
    {
      "cell_type": "markdown",
      "source": [
        "\n",
        "\n",
        "---\n",
        "\n",
        "\n",
        "\n",
        "---\n",
        "\n"
      ],
      "metadata": {
        "id": "fjuWd5A7A3Fi"
      }
    },
    {
      "cell_type": "markdown",
      "source": [
        "## Selecting slices of text"
      ],
      "metadata": {
        "id": "GKkHlGqP_BN8"
      }
    },
    {
      "cell_type": "code",
      "source": [
        "# Import spaCy\n",
        "import spacy\n",
        "\n",
        "# Create the English nlp object\n",
        "nlp = spacy.blank(\"en\")\n",
        "\n",
        "# tokenize the text\n",
        "doc = nlp(\"This is a sentence.\")\n",
        "\n",
        "# Print the first word in the sentence\n",
        "print(\"The first word in the sentence is:\", doc[0])\n"
      ],
      "metadata": {
        "colab": {
          "base_uri": "https://localhost:8080/"
        },
        "id": "JyLQvYSp_APn",
        "outputId": "bfd2ea6c-8c61-41ed-fd2c-68a9e44bbb06"
      },
      "execution_count": null,
      "outputs": [
        {
          "output_type": "stream",
          "name": "stdout",
          "text": [
            "The first word in the sentence is: This\n"
          ]
        }
      ]
    },
    {
      "cell_type": "code",
      "source": [
        "# Print the last word in the sentence\n",
        "doc[3]"
      ],
      "metadata": {
        "colab": {
          "base_uri": "https://localhost:8080/"
        },
        "id": "LSPqaoJA_xZS",
        "outputId": "2bf54343-0e11-4cac-c4d7-b6691c0c8982"
      },
      "execution_count": null,
      "outputs": [
        {
          "output_type": "execute_result",
          "data": {
            "text/plain": [
              "sentence"
            ]
          },
          "metadata": {},
          "execution_count": 11
        }
      ]
    },
    {
      "cell_type": "markdown",
      "source": [
        "\n",
        "\n",
        "---\n",
        "\n",
        "\n",
        "\n",
        "---\n",
        "\n"
      ],
      "metadata": {
        "id": "FYfJCJ2UBJAS"
      }
    },
    {
      "cell_type": "markdown",
      "source": [
        "## Let's move on to some exciting uses of **NLP**"
      ],
      "metadata": {
        "id": "K5HpdaFfAIx2"
      }
    },
    {
      "cell_type": "markdown",
      "source": [
        "To extract the percentages in a text:"
      ],
      "metadata": {
        "id": "seGvrSsvBU9i"
      }
    },
    {
      "cell_type": "code",
      "source": [
        "# Import spaCy\n",
        "import spacy\n",
        "\n",
        "# Create the English nlp object\n",
        "nlp = spacy.blank(\"en\")\n",
        "\n",
        "# Process the text\n",
        "doc = nlp(\n",
        "    \"In 1990, more than 60% of people in East Asia were in extreme poverty. \"\n",
        "    \"Now less than 4% are.\"\n",
        ")\n",
        "\n",
        "# Iterate over the tokens in the doc\n",
        "for token in doc:\n",
        "    # Check if the token resembles a number\n",
        "    if token.like_num:\n",
        "        # Get the next token in the document\n",
        "        next_token = doc[token.i + 1]\n",
        "        # Check if the next token's text equals \"%\"\n",
        "        if next_token.text == \"%\":\n",
        "            print(\"Percentage found:\", token.text)"
      ],
      "metadata": {
        "colab": {
          "base_uri": "https://localhost:8080/"
        },
        "id": "wEoGl3u9AI7c",
        "outputId": "4ee3b947-af4d-43da-de9a-a12b570f6eb4"
      },
      "execution_count": null,
      "outputs": [
        {
          "output_type": "stream",
          "name": "stdout",
          "text": [
            "Percentage found: 60\n",
            "Percentage found: 4\n"
          ]
        }
      ]
    },
    {
      "cell_type": "markdown",
      "source": [
        "### Predicting Name entities"
      ],
      "metadata": {
        "id": "t9frtx3yC1YG"
      }
    },
    {
      "cell_type": "code",
      "source": [
        "# *******Insert the text down here******\n",
        "text = \"Apple is looking at buying U.K. startup for $1 billion\"\n",
        "\n",
        "# Process the text\n",
        "doc = nlp(text)\n",
        "\n",
        "# Iterate over the entities\n",
        "for ent in doc.ents:\n",
        "    # Print the entity text and label\n",
        "    print(ent.text, ent.label_)"
      ],
      "metadata": {
        "colab": {
          "base_uri": "https://localhost:8080/"
        },
        "id": "Quu5d9q6C1_J",
        "outputId": "9d285ae6-3141-469d-a04c-605fa7a4a4a9"
      },
      "execution_count": 2,
      "outputs": [
        {
          "output_type": "stream",
          "name": "stdout",
          "text": [
            "Apple ORG\n",
            "U.K. GPE\n",
            "$1 billion MONEY\n"
          ]
        }
      ]
    },
    {
      "cell_type": "markdown",
      "source": [
        "\n",
        "\n",
        "---\n",
        "\n",
        "\n",
        "\n",
        "---\n",
        "\n"
      ],
      "metadata": {
        "id": "tci623I4l3YM"
      }
    },
    {
      "cell_type": "markdown",
      "source": [
        "# Extracting brand names"
      ],
      "metadata": {
        "id": "5dYimZ8XEfVM"
      }
    },
    {
      "cell_type": "markdown",
      "source": [
        "Texts taken from https://davidsonbranding.com.au/the-inspiration-behind-the-brand-names-of-10-world-famous-companies/"
      ],
      "metadata": {
        "id": "8aUUF1rkEkc9"
      }
    },
    {
      "cell_type": "markdown",
      "source": [
        "## Brand name example 1: Amazon"
      ],
      "metadata": {
        "id": "ccbT0FBkj5m3"
      }
    },
    {
      "cell_type": "code",
      "source": [
        "# *******Insert the text down here******\n",
        "text = \"Amazon wasn't the digital giant's first name or its second name for that matter. Amazon founder Jeff Bezos, now the richest man in the world, changed the brand name three times in the first year of business\"\n",
        "\"before finally settling on the name for, what is now, one of the world's most iconic brands. The first name Jeff registered was Cadabra. However, Jeff very quickly went cold on the idea when his accountant miss heard\"\n",
        "\"him and thought the name was Cadava. Back to the drawing board Jeff's next naming brainwave was 'Relentless'. However, soon after registering the name and domains, Jeff's friends and colleagues confessed that they\"\n",
        "\"thought the name sounded too sinister. Strike two. In desperation, Jeff turned to the dictionary. He wanted the new name to start with the letter A so the company would appear first in a web search. It wasn't long\"\n",
        "\"before he stumbled upon the perfect name Amazon. It was the ideal metaphor for his new venture. The Amazon was exotic and different, just as he wanted his online store to be. It was also the largest river in the world,\"\n",
        "\"10 times larger than the next contender perfectly fitting the vision Jeff had for his business.\"\n",
        "\n",
        "# Process the text\n",
        "doc = nlp(text)\n",
        "\n",
        "# Iterate over the entities\n",
        "for ent in doc.ents:\n",
        "    # Print the entity text and label\n",
        "    print(ent.text, ent.label_)"
      ],
      "metadata": {
        "colab": {
          "base_uri": "https://localhost:8080/"
        },
        "outputId": "e931d4a8-2887-4a54-f6bf-4aa45c921d47",
        "id": "SpKmDSXRdJZO"
      },
      "execution_count": null,
      "outputs": [
        {
          "output_type": "stream",
          "name": "stdout",
          "text": [
            "Amazon ORG\n",
            "first ORDINAL\n",
            "second ORDINAL\n",
            "Amazon ORG\n",
            "Jeff Bezos PERSON\n",
            "three CARDINAL\n",
            "the first year DATE\n"
          ]
        }
      ]
    },
    {
      "cell_type": "markdown",
      "source": [
        "## Brand name example 2: Sony"
      ],
      "metadata": {
        "id": "0KIrWdFfkFWM"
      }
    },
    {
      "cell_type": "code",
      "source": [
        "# *******Insert the text down here******\n",
        "text = \"In 1946 businessman Masaru Ibuka established Tokyo Tsushin Kogyo with a vision of “establishing an ideal factory that stresses a spirit of freedom and open-mindedness that will, through technology,\"\n",
        "\"contribute to Japanese culture. After a decade of building a successful business, Masaru had aspirations to expand globally. During a business trip to the United States, he quickly discovered that Americans\"\n",
        "\"had trouble pronouncing his company's name. To be a successful international brand, Masaru realised he had to change the company name. His first thought was to use the acronym 'TTK', however, this name was\"\n",
        "\"being used by the Tokyo Rail. His next thought was to take the first two letters from the company's current name to create an abbreviation 'Totsuko'  (Tokyo Tsushin Kogyo), however, he discovered that westerners\"\n",
        "\"also had trouble pronouncing it. He settled on the name Tokyo Teletech, however on a subsequent trip to the United States, discovered another company using this name. In 1958 the name 'Sony' was chosen inspired\"\n",
        "\"by the Latin word 'sonus' meaning sonic and sound. The name had a second meaning sonny, a Japanese slang term describing a smart and presentable young man. Sony is now ranked 47th in the World's Most Valuable Brands\"\n",
        "\"list, proving that persistence pays off.\"\n",
        "\n",
        "# Process the text\n",
        "doc = nlp(text)\n",
        "\n",
        "# Iterate over the entities\n",
        "for ent in doc.ents:\n",
        "    # Print the entity text and label\n",
        "    print(ent.text, ent.label_)"
      ],
      "metadata": {
        "colab": {
          "base_uri": "https://localhost:8080/"
        },
        "outputId": "11a59246-fd3e-4fe9-89dc-c772ae0b0858",
        "id": "aRD0GbQPgH_2"
      },
      "execution_count": null,
      "outputs": [
        {
          "output_type": "stream",
          "name": "stdout",
          "text": [
            "1946 DATE\n",
            "Masaru Ibuka PERSON\n",
            "Tokyo GPE\n",
            "Tsushin Kogyo PERSON\n",
            "Japanese NORP\n",
            "a decade DATE\n",
            "Masaru PERSON\n",
            "the United States GPE\n",
            "Americans NORP\n",
            "Masaru PERSON\n",
            "first ORDINAL\n",
            "TTK ORG\n",
            "the Tokyo Rail ORG\n",
            "first ORDINAL\n",
            "two CARDINAL\n",
            "Tsushin Kogyo PERSON\n",
            "Tokyo Teletech PERSON\n",
            "the United States GPE\n",
            "1958 DATE\n",
            "Sony ORG\n",
            "Latin NORP\n",
            "second ORDINAL\n",
            "Japanese NORP\n",
            "Sony ORG\n",
            "47th ORDINAL\n",
            "the World’s Most Valuable Brands ORG\n"
          ]
        }
      ]
    },
    {
      "cell_type": "markdown",
      "source": [
        "## Finding words and numbers in text"
      ],
      "metadata": {
        "id": "RHYwBwZifn3l"
      }
    },
    {
      "cell_type": "code",
      "source": [
        "import spacy\n",
        "from spacy.matcher import Matcher\n",
        "\n",
        "nlp = spacy.load(\"en_core_web_sm\")\n",
        "matcher = Matcher(nlp.vocab)\n",
        "\n",
        "doc = nlp(\n",
        "    \"After making the iOS update you won't notice a radical system-wide \"\n",
        "    \"redesign: nothing like the aesthetic upheaval we got with iOS 7. Most of \"\n",
        "    \"iOS 11's furniture remains the same as in iOS 10. But you will discover \"\n",
        "    \"some tweaks once you delve a little deeper.\"\n",
        ")\n",
        "\n",
        "# Write a pattern for full iOS versions (\"iOS 7\", \"iOS 11\", \"iOS 10\")\n",
        "pattern = [{\"TEXT\": \"iOS\"}, {\"IS_DIGIT\": True}]\n",
        "\n",
        "# Add the pattern to the matcher and apply the matcher to the doc\n",
        "matcher.add(\"IOS_VERSION_PATTERN\", [pattern])\n",
        "matches = matcher(doc)\n",
        "print(\"Total matches found:\", len(matches))\n",
        "\n",
        "# Iterate over the matches and print the span text\n",
        "for match_id, start, end in matches:\n",
        "    print(\"Match found:\", doc[start:end].text)"
      ],
      "metadata": {
        "colab": {
          "base_uri": "https://localhost:8080/"
        },
        "id": "8zHEcJp0d_Z4",
        "outputId": "e5838291-354a-42fc-d23c-fc3dde0c89d0"
      },
      "execution_count": null,
      "outputs": [
        {
          "output_type": "stream",
          "name": "stdout",
          "text": [
            "Total matches found: 3\n",
            "Match found: iOS 7\n",
            "Match found: iOS 11\n",
            "Match found: iOS 10\n"
          ]
        }
      ]
    },
    {
      "cell_type": "markdown",
      "source": [
        "## Finding words and phrases in text"
      ],
      "metadata": {
        "id": "gNSUCtHzgjx_"
      }
    },
    {
      "cell_type": "markdown",
      "source": [
        "Example 1"
      ],
      "metadata": {
        "id": "UpB5fozFir7x"
      }
    },
    {
      "cell_type": "code",
      "source": [
        "import spacy\n",
        "from spacy.matcher import Matcher\n",
        "\n",
        "nlp = spacy.load(\"en_core_web_sm\")\n",
        "matcher = Matcher(nlp.vocab)\n",
        "\n",
        "doc = nlp(\n",
        "    \"i downloaded Fortnite on my laptop and can't open the game at all. Help? \"\n",
        "    \"so when I was downloading Minecraft, I got the Windows version where it \"\n",
        "    \"is the '.zip' folder and I used the default program to unpack it... do \"\n",
        "    \"I also need to download Winzip?\"\n",
        ")\n",
        "\n",
        "# Write a pattern that matches a form of \"download\" plus proper noun\n",
        "pattern = [{\"LEMMA\": \"download\"}, {\"POS\": \"PROPN\"}]\n",
        "\n",
        "# Add the pattern to the matcher and apply the matcher to the doc\n",
        "matcher.add(\"DOWNLOAD_THINGS_PATTERN\", [pattern])\n",
        "matches = matcher(doc)\n",
        "print(\"Total matches found:\", len(matches))\n",
        "\n",
        "# Iterate over the matches and print the span text\n",
        "for match_id, start, end in matches:\n",
        "    print(\"Match found:\", doc[start:end].text)"
      ],
      "metadata": {
        "colab": {
          "base_uri": "https://localhost:8080/"
        },
        "id": "dQxQHosTgkIg",
        "outputId": "6910cf68-cef0-404c-cc9f-0d7728aa784d"
      },
      "execution_count": null,
      "outputs": [
        {
          "output_type": "stream",
          "name": "stdout",
          "text": [
            "Total matches found: 3\n",
            "Match found: downloaded Fortnite\n",
            "Match found: downloading Minecraft\n",
            "Match found: download Winzip\n"
          ]
        }
      ]
    }
  ]
}